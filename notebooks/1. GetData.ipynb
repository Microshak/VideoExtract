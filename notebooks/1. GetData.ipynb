{
 "cells": [
  {
   "cell_type": "code",
   "execution_count": null,
   "metadata": {},
   "outputs": [],
   "source": []
  },
  {
   "cell_type": "markdown",
   "metadata": {},
   "source": [
    "# Download \n",
    "1. Download MP4\n",
    "2. Convert to mp3\n",
    "3. Convert to text"
   ]
  },
  {
   "cell_type": "code",
   "execution_count": null,
   "metadata": {},
   "outputs": [],
   "source": [
    "from pytube import YouTube\n",
    "from moviepy.editor import *\n",
    "import whisper\n",
    "import duckdb\n",
    "import shutil\n",
    "\n",
    "#https://github.com/openai/whisper\n",
    "model = whisper.load_model(\"base\")\n",
    "\n",
    "#https://duckdb.org/docs/api/python/overview.html\n",
    "con = duckdb.connect(\"podcast.db\")\n"
   ]
  },
  {
   "cell_type": "markdown",
   "metadata": {},
   "source": [
    "# Andrew's Podcasts"
   ]
  },
  {
   "cell_type": "markdown",
   "metadata": {},
   "source": []
  },
  {
   "cell_type": "code",
   "execution_count": null,
   "metadata": {},
   "outputs": [],
   "source": [
    "PodCasts = []\n",
    "PodCasts.append('https://www.youtube.com/watch?v=EfB2kprG7es')\n",
    "PodCasts.append('https://www.youtube.com/watch?v=srB97uc_HVA&list=PLKDy1iUuItpza93BF2pt3LRN15Re6D4mc&index=15')\n",
    "PodCasts.append('https://www.youtube.com/watch?v=TYDphDjFqZs')\n",
    "PodCasts.append('https://www.youtube.com/watch?v=c2DeAhqbKlY')\n",
    "PodCasts.append('https://www.youtube.com/watch?v=Gh0rFKjDdYg&list=PLKDy1iUuItpza93BF2pt3LRN15Re6D4mc&index=1')\n",
    "PodCasts.append('https://www.youtube.com/watch?v=KLDoQoxQI_0&list=PLKDy1iUuItpza93BF2pt3LRN15Re6D4mc&index=2')\n",
    "PodCasts.append('https://www.youtube.com/watch?v=2O4U1f2kRtQ&list=PLKDy1iUuItpza93BF2pt3LRN15Re6D4mc&index=4')\n",
    "PodCasts.append('https://www.youtube.com/watch?v=fUV7yzWy2cQ&list=PLKDy1iUuItpza93BF2pt3LRN15Re6D4mc&index=6')\n",
    "PodCasts.append('https://www.youtube.com/watch?v=Mc0J6-VOHGg&list=PLKDy1iUuItpza93BF2pt3LRN15Re6D4mc&index=7')"
   ]
  },
  {
   "cell_type": "code",
   "execution_count": null,
   "metadata": {},
   "outputs": [],
   "source": [
    "con.sql(\"\"\"\n",
    "    CREATE TABLE Podcasts (\n",
    "    Title VARCHAR,\n",
    "    transcript VARCHAR, \n",
    "    Summary VARCHAR,\n",
    "    ChatGPT DECIMAL,\n",
    "    LLM1 DECIMAL,\n",
    "    LLM2 DECIMAL,\n",
    "    SLM1 Decimal,\n",
    "    SLM2 Decimal,\n",
    "    SmanticSearch,       \n",
    "     \n",
    "    );\n",
    "    \"\"\")"
   ]
  },
  {
   "cell_type": "markdown",
   "metadata": {},
   "source": [
    "# Download and convert\n"
   ]
  },
  {
   "cell_type": "code",
   "execution_count": null,
   "metadata": {},
   "outputs": [],
   "source": [
    "\n",
    "for casts in PodCasts:\n",
    "  #YouTube(casts).streams.first().download()\n",
    "  \n",
    "\n",
    "\n",
    "  yt = YouTube(casts)\n",
    "  file = yt.streams.filter(progressive=True, file_extension='mp4').order_by('resolution').desc().first().download()\n",
    "  video = VideoFileClip(file)\n",
    "  audiofile = file.replace('mp4', \"mp3\")\n",
    "  title = file.replace('.mp4', \"\")\n",
    "  video.audio.write_audiofile(audiofile)\n",
    "  result = model.transcribe(audiofile)\n",
    "  con.sql(f\"\"\"\n",
    "   INSERT INTO test VALUES ('{title}',{result[\"text\"]}') \n",
    "    \"\"\")\n",
    "  shutil.move(f\"./{file}\", f\"./Video/{file}\")\n",
    "  shutil.move(f\"./{audiofile}\", f\"./Audio/{audiofile}\")\n",
    "  \n"
   ]
  }
 ],
 "metadata": {
  "language_info": {
   "name": "python"
  },
  "orig_nbformat": 4
 },
 "nbformat": 4,
 "nbformat_minor": 2
}
